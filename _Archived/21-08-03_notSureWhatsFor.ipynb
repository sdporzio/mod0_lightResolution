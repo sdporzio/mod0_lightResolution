{
 "cells": [
  {
   "cell_type": "code",
   "execution_count": null,
   "metadata": {},
   "outputs": [
    {
     "name": "stdout",
     "output_type": "stream",
     "text": [
      "Welcome to JupyROOT 6.22/08\n"
     ]
    }
   ],
   "source": [
    "%matplotlib inline\n",
    "# File formats\n",
    "import ROOT\n",
    "import uproot, h5py, pickle\n",
    "# Data manipulation\n",
    "import datetime as dt\n",
    "import numpy as np\n",
    "import pandas as pd\n",
    "# Plotting\n",
    "import matplotlib\n",
    "from matplotlib import pyplot as plt\n",
    "import matplotlib.gridspec as gridspec\n",
    "# Others\n",
    "from tqdm.notebook import tqdm\n",
    "import sys, importlib\n",
    "from importlib import reload\n",
    "from pathlib import Path\n",
    "# Personal\n",
    "import hepkit.hepData as hd\n",
    "import hepkit.hepIO as hio\n",
    "import hepkit.hepPlot as hp\n",
    "import hepkit.hepFormat as hf\n",
    "# Colors\n",
    "mc = [\n",
    "    [35/255,55/255,59/255],\n",
    "    [237/255,138/255,46/255],\n",
    "    [131/255,40/255,0/255],\n",
    "    [0/255,123/255,68/255],\n",
    "    [107/255,60/255,79/255],\n",
    "    [118/255,93/255,68/255],\n",
    "    [62/255,79/255,51/255],\n",
    "    [147/255,161/255,161/255]\n",
    "]\n",
    "\n",
    "\n",
    "# Add current directory to import path and import locals\n",
    "pathFromHere = Path(\"__file__\").parent.absolute()\n",
    "sys.path.insert(1, pathFromHere)\n",
    "import Libraries.charge_library as cl\n",
    "import Libraries.light_library as ll\n",
    "import Libraries.meta_library as ml\n",
    "import Libraries.evd_library as evd\n",
    "import Libraries.protonCandidate_class as pcc\n",
    "import Libraries.betheBloch_library as bbl\n",
    "\n",
    "hf.DefaultSetup()"
   ]
  },
  {
   "cell_type": "code",
   "execution_count": null,
   "metadata": {},
   "outputs": [],
   "source": [
    "%%time\n",
    "reload(cl)\n",
    "reload(ll)\n",
    "\n",
    "### FILENAMES\n",
    "cpath = '/home/dporzio/Data/Michel/michel_datalog_2021_04_04_16_19_13_CEST_evd.h5'\n",
    "ldir = '/home/dporzio/Data/Michel'\n",
    "\n",
    "### LOAD LIGHT DATA\n",
    "# Uproot\n",
    "ldata, lpath = ml.FindPartnerLightFile(cpath,ldir)\n",
    "# Root\n",
    "rfile = ROOT.TFile.Open(lpath, 'read')\n",
    "rwf = rfile.Get('rwf')\n",
    "# Convert utime to a better usable format\n",
    "ldata['utime_ms'] = ldata['utime_ms'].astype(np.int64)\n",
    "\n",
    "### LOAD CHARGE DATA\n",
    "cdata = h5py.File(cpath,'r')\n",
    "\n",
    "h_events = cdata['events']\n",
    "h_trigs = cdata['ext_trigs']\n",
    "h_tracks = cdata['tracks']\n",
    "h_hits = cdata['hits']\n",
    "h_info = cdata['info'].attrs\n",
    "\n",
    "print(\"events:\",[t for t in cdata['events'].dtype.names])\n",
    "print(\"tracks:\",[t for t in cdata['tracks'].dtype.names])\n",
    "print(\"hits:\",[t for t in cdata['hits'].dtype.names])\n",
    "print(\"ext_trigs:\",[t for t in cdata['ext_trigs'].dtype.names])\n",
    "print(\"info:\",[t for t in (cdata['info'].attrs).keys()])\n",
    "\n",
    "### LOAD GEOMETRY DATA\n",
    "geometryHelper = cl.GetGeometryHelper(h_info)\n",
    "\n",
    "### OTHER FUNCTIONS\n",
    "def EuDistance(p1,p2):\n",
    "    return np.sqrt(np.power(p1[0]-p2[0],2.) + np.power(p1[1]-p2[1],2.) + np.power(p1[2]-p2[2],2.))"
   ]
  },
  {
   "cell_type": "code",
   "execution_count": null,
   "metadata": {},
   "outputs": [],
   "source": [
    "i = 100\n",
    "plt.scatter(h_hits['px'][0:i],h_hits['py'][0:i])\n",
    "plt.show()"
   ]
  },
  {
   "cell_type": "code",
   "execution_count": null,
   "metadata": {},
   "outputs": [],
   "source": []
  }
 ],
 "metadata": {
  "kernelspec": {
   "display_name": "Python 3",
   "language": "python",
   "name": "python3"
  },
  "language_info": {
   "codemirror_mode": {
    "name": "ipython",
    "version": 3
   },
   "file_extension": ".py",
   "mimetype": "text/x-python",
   "name": "python",
   "nbconvert_exporter": "python",
   "pygments_lexer": "ipython3",
   "version": "3.7.10"
  }
 },
 "nbformat": 4,
 "nbformat_minor": 4
}
